{
 "cells": [
  {
   "cell_type": "code",
   "execution_count": 30,
   "metadata": {},
   "outputs": [
    {
     "name": "stdout",
     "output_type": "stream",
     "text": [
      "Today's Menu: \n",
      " Breakfast\n",
      "                           Choose 1\n",
      "       Crabstick fried rice w sides\n",
      "                    Baked tuna puff\n",
      "                            Waffles\n",
      "                 Sandwich selection\n",
      "                                   \n",
      "                             Drinks\n",
      "                               Milo\n",
      "                                   \n",
      "                             Dinner\n",
      "                               Menu\n",
      "                               Soup\n",
      "              Sweet radish egg soup\n",
      "                                   \n",
      "                               Meat\n",
      "Pineapple  with Hot & Spicy Chicken\n",
      "                 Sambal Shrimp Meat\n",
      "    Cajun baked fish with BBQ sauce\n",
      "                                   \n",
      "                          Side Dish\n",
      "                     Ma po beancurd\n",
      "                  Stir fried potato\n",
      "               BBQ cocktail sausage\n",
      "                                   \n",
      "                          Vegetable\n",
      "                 Stir fried cabbage\n",
      "         Teow choe pak oyster sauce\n",
      "               Chye sim with garlic\n",
      "                                   \n",
      "                            Dessert\n",
      "                             Banana\n"
     ]
    }
   ],
   "source": [
    "import pandas as pd\n",
    "import datetime\n",
    "\n",
    "def load_data(month='Oct'):\n",
    "    # TODO: load diff files acc to month. \n",
    "    df = pd.read_csv('/Users/brenda/Downloads/Telegram Desktop/test_oct_menu_cleaned.csv')\n",
    "    return df\n",
    "\n",
    "def format_date(tdy_raw):\n",
    "    tdy_str = format(tdy_raw, '%Y-%m-%d')\n",
    "    return tdy_str\n",
    "\n",
    "tdy_raw = datetime.datetime.today()\n",
    "tdy = format_date(tdy_raw)\n",
    "tmr = format_date(tdy_raw + datetime.timedelta(days=1))\n",
    "df = load_data()\n",
    "\n",
    "\n",
    "print(\"Today's Menu: \\n \" + df[tdy].to_string(index=False, header=False, na_rep=\"\"))"
   ]
  },
  {
   "cell_type": "code",
   "execution_count": 72,
   "metadata": {},
   "outputs": [
    {
     "name": "stdout",
     "output_type": "stream",
     "text": [
      "Breakfast\n",
      "Choose 1\n",
      "Crabstick fried rice w sides\n",
      "Baked tuna puff\n",
      " Waffles\n",
      " Sandwich selection\n",
      " \n",
      "Drinks\n",
      "Milo\n",
      " \n",
      "Dinner\n",
      "Menu\n",
      "Soup\n",
      "Sweet radish egg soup\n",
      " \n",
      "Meat\n",
      "Pineapplewith Hot & Spicy Chicken\n",
      " Sambal Shrimp Meat\n",
      "Cajun baked fish with BBQ sauce\n",
      " \n",
      " Side Dish\n",
      "Ma po beancurd\n",
      "Stir fried potato\n",
      " BBQ cocktail sausage\n",
      " \n",
      " Vegetable\n",
      " Stir fried cabbage\n",
      "Teow choe pak oyster sauce\n",
      " Chye sim with garlic\n",
      " \n",
      " Dessert\n",
      "Banana\n"
     ]
    }
   ],
   "source": [
    "s = df[tdy].to_string(index=False, header=False, na_rep=\"\")\n",
    "s = s.replace(\"                           \",\"\")\n",
    "s = s.replace(\"       \",\"\")\n",
    "s = s.replace(\"  \",\"\")\n",
    "\n",
    "print(s)\n"
   ]
  },
  {
   "cell_type": "code",
   "execution_count": 36,
   "metadata": {},
   "outputs": [
    {
     "ename": "TypeError",
     "evalue": "replace() argument 1 must be str, not list",
     "output_type": "error",
     "traceback": [
      "\u001b[0;31m---------------------------------------------------------------------------\u001b[0m",
      "\u001b[0;31mTypeError\u001b[0m                                 Traceback (most recent call last)",
      "\u001b[0;32m<ipython-input-36-e7d7e873c34c>\u001b[0m in \u001b[0;36m<module>\u001b[0;34m()\u001b[0m\n\u001b[0;32m----> 1\u001b[0;31m \u001b[0ms\u001b[0m\u001b[0;34m.\u001b[0m\u001b[0mreplace\u001b[0m\u001b[0;34m(\u001b[0m\u001b[0;34m[\u001b[0m\u001b[0;34m\"Breakfast\"\u001b[0m\u001b[0;34m,\u001b[0m \u001b[0;34m\"Dinner\"\u001b[0m\u001b[0;34m]\u001b[0m\u001b[0;34m,\u001b[0m \u001b[0;34m[\u001b[0m\u001b[0;34m\"*Breakfast*\"\u001b[0m\u001b[0;34m,\u001b[0m\u001b[0;34m\"*Dinner*\"\u001b[0m\u001b[0;34m]\u001b[0m\u001b[0;34m)\u001b[0m\u001b[0;34m\u001b[0m\u001b[0m\n\u001b[0m",
      "\u001b[0;31mTypeError\u001b[0m: replace() argument 1 must be str, not list"
     ]
    }
   ],
   "source": [
    "s.replace([\"Breakfast\", \"Dinner\"], [\"*Breakfast*\",\"*Dinner*\"])"
   ]
  },
  {
   "cell_type": "code",
   "execution_count": 42,
   "metadata": {},
   "outputs": [
    {
     "data": {
      "text/plain": [
       "'*Breakfast*\\n                           _Choose 1_\\n       Crabstick fried rice w sides\\n                    Baked tuna puff\\n                            Waffles\\n                 Sandwich selection\\n                                   \\n                             _Drinks_\\n                               Milo\\n                                   \\n                             *Dinner*\\n                               Menu\\n                               Soup\\n              Sweet radish egg soup\\n                                   \\n                               _Meat_\\nPineapple  with Hot & Spicy Chicken\\n                 Sambal Shrimp _Meat_\\n    Cajun baked fish with BBQ sauce\\n                                   \\n                          _Side Dish_\\n                     Ma po beancurd\\n                  Stir fried potato\\n               BBQ cocktail sausage\\n                                   \\n                          _Vegetable_\\n                 Stir fried cabbage\\n         Teow choe pak oyster sauce\\n               Chye sim with garlic\\n                                   \\n                            _Dessert_\\n                             Banana'"
      ]
     },
     "execution_count": 42,
     "metadata": {},
     "output_type": "execute_result"
    }
   ],
   "source": [
    "def format_menu(menu):\n",
    "    res = menu.to_string(index=False, header=False, na_rep=\"\")\n",
    "    \n",
    "    words_to_bold = ['Breakfast', 'Dinner']\n",
    "    words_to_italicized = ['Choose 1', 'Drinks', 'Meat', 'Side Dish', 'Vegetable', 'Dessert']\n",
    "    for word in words_to_bold:\n",
    "        res = res.replace(word, '*' + word + '*')\n",
    "    for word in words_to_italicized:\n",
    "        res = res.replace(word, '_' + word + '_')\n",
    "    return res\n",
    "format_menu(df[tdy])"
   ]
  },
  {
   "cell_type": "code",
   "execution_count": 43,
   "metadata": {},
   "outputs": [
    {
     "data": {
      "text/plain": [
       "'WRE'"
      ]
     },
     "execution_count": 43,
     "metadata": {},
     "output_type": "execute_result"
    }
   ],
   "source": [
    "'wre'.upper()"
   ]
  },
  {
   "cell_type": "code",
   "execution_count": null,
   "metadata": {},
   "outputs": [],
   "source": []
  }
 ],
 "metadata": {
  "kernelspec": {
   "display_name": "Python 3",
   "language": "python",
   "name": "python3"
  },
  "language_info": {
   "codemirror_mode": {
    "name": "ipython",
    "version": 3
   },
   "file_extension": ".py",
   "mimetype": "text/x-python",
   "name": "python",
   "nbconvert_exporter": "python",
   "pygments_lexer": "ipython3",
   "version": "3.6.4"
  }
 },
 "nbformat": 4,
 "nbformat_minor": 2
}
